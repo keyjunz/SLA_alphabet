{
  "nbformat": 4,
  "nbformat_minor": 0,
  "metadata": {
    "colab": {
      "provenance": [],
      "gpuType": "T4"
    },
    "kernelspec": {
      "name": "python3",
      "display_name": "Python 3"
    },
    "language_info": {
      "name": "python"
    },
    "accelerator": "GPU"
  },
  "cells": [
    {
      "cell_type": "code",
      "execution_count": null,
      "metadata": {
        "id": "V0isTdYmJXNE",
        "colab": {
          "base_uri": "https://localhost:8080/"
        },
        "outputId": "b1742373-37b4-4eb1-c443-6bdfba32a4f0"
      },
      "outputs": [
        {
          "output_type": "stream",
          "name": "stdout",
          "text": [
            "Drive already mounted at /content/drive; to attempt to forcibly remount, call drive.mount(\"/content/drive\", force_remount=True).\n"
          ]
        }
      ],
      "source": [
        "from google.colab import drive\n",
        "drive.mount('/content/drive')"
      ]
    },
    {
      "cell_type": "markdown",
      "source": [
        "#Tải các thư viện cần thiết"
      ],
      "metadata": {
        "id": "AL9hDL-B9vxC"
      }
    },
    {
      "cell_type": "code",
      "source": [
        "!pip install -q mediapipe pandas"
      ],
      "metadata": {
        "id": "DNVOvXO0Jbgs",
        "colab": {
          "base_uri": "https://localhost:8080/"
        },
        "outputId": "4d4c976f-a59e-4b34-cb34-6e932fd0e02d"
      },
      "execution_count": null,
      "outputs": [
        {
          "output_type": "stream",
          "name": "stdout",
          "text": [
            "\u001b[2K     \u001b[90m━━━━━━━━━━━━━━━━━━━━━━━━━━━━━━━━━━━━━━━━\u001b[0m \u001b[32m61.0/61.0 kB\u001b[0m \u001b[31m2.7 MB/s\u001b[0m eta \u001b[36m0:00:00\u001b[0m\n",
            "\u001b[2K   \u001b[90m━━━━━━━━━━━━━━━━━━━━━━━━━━━━━━━━━━━━━━━━\u001b[0m \u001b[32m35.6/35.6 MB\u001b[0m \u001b[31m62.0 MB/s\u001b[0m eta \u001b[36m0:00:00\u001b[0m\n",
            "\u001b[2K   \u001b[90m━━━━━━━━━━━━━━━━━━━━━━━━━━━━━━━━━━━━━━━━\u001b[0m \u001b[32m18.3/18.3 MB\u001b[0m \u001b[31m112.7 MB/s\u001b[0m eta \u001b[36m0:00:00\u001b[0m\n",
            "\u001b[2K   \u001b[90m━━━━━━━━━━━━━━━━━━━━━━━━━━━━━━━━━━━━━━━━\u001b[0m \u001b[32m294.9/294.9 kB\u001b[0m \u001b[31m28.9 MB/s\u001b[0m eta \u001b[36m0:00:00\u001b[0m\n",
            "\u001b[2K   \u001b[90m━━━━━━━━━━━━━━━━━━━━━━━━━━━━━━━━━━━━━━━━\u001b[0m \u001b[32m69.1/69.1 MB\u001b[0m \u001b[31m12.9 MB/s\u001b[0m eta \u001b[36m0:00:00\u001b[0m\n",
            "\u001b[?25h\u001b[31mERROR: pip's dependency resolver does not currently take into account all the packages that are installed. This behaviour is the source of the following dependency conflicts.\n",
            "opencv-python-headless 4.12.0.88 requires numpy<2.3.0,>=2; python_version >= \"3.9\", but you have numpy 1.26.4 which is incompatible.\n",
            "opencv-python 4.12.0.88 requires numpy<2.3.0,>=2; python_version >= \"3.9\", but you have numpy 1.26.4 which is incompatible.\n",
            "grpcio-status 1.71.2 requires protobuf<6.0dev,>=5.26.1, but you have protobuf 4.25.8 which is incompatible.\n",
            "ydf 0.13.0 requires protobuf<7.0.0,>=5.29.1, but you have protobuf 4.25.8 which is incompatible.\n",
            "thinc 8.3.6 requires numpy<3.0.0,>=2.0.0, but you have numpy 1.26.4 which is incompatible.\u001b[0m\u001b[31m\n",
            "\u001b[0m"
          ]
        }
      ]
    },
    {
      "cell_type": "markdown",
      "source": [
        "#Import thư viện"
      ],
      "metadata": {
        "id": "CuysFKxN9su1"
      }
    },
    {
      "cell_type": "code",
      "source": [
        "import mediapipe as mp\n",
        "import cv2\n",
        "import os\n",
        "import numpy as np\n",
        "import pandas as pd"
      ],
      "metadata": {
        "id": "7_uKicTQJpEz"
      },
      "execution_count": null,
      "outputs": []
    },
    {
      "cell_type": "markdown",
      "source": [
        "#Khởi tạo đường dẫn"
      ],
      "metadata": {
        "id": "grfPIaZU-YLd"
      }
    },
    {
      "cell_type": "code",
      "source": [
        "SOURCE_DATA_PATH = '/content/drive/MyDrive/Sign Language Recognition System/data/raw_data/Sign Language for Alphabets'\n",
        "OUTPUT_CSV_PATH = '/content/drive/MyDrive/Sign Language Recognition System/processed/landmark_dataset.csv'\n",
        "\n",
        "print(\"Đường dẫn nguồn:\", SOURCE_DATA_PATH)\n",
        "print(\"Đường dẫn đích:\", OUTPUT_CSV_PATH)"
      ],
      "metadata": {
        "colab": {
          "base_uri": "https://localhost:8080/"
        },
        "id": "tM9ci_J3Im3Z",
        "outputId": "8508df78-7935-4ad4-bbb0-7060455894e5"
      },
      "execution_count": null,
      "outputs": [
        {
          "output_type": "stream",
          "name": "stdout",
          "text": [
            "Đường dẫn nguồn: /content/drive/MyDrive/Sign Language Recognition System/data/raw_data/Sign Language for Alphabets\n",
            "Đường dẫn đích: /content/drive/MyDrive/Sign Language Recognition System/processed/landmark_dataset.csv\n"
          ]
        }
      ]
    },
    {
      "cell_type": "markdown",
      "source": [
        "#Tiền xử lí dữ liệu"
      ],
      "metadata": {
        "id": "pog9KZy9-dAH"
      }
    },
    {
      "cell_type": "code",
      "source": [
        "all_items = os.listdir(SOURCE_DATA_PATH)\n",
        "# Lọc ra chỉ những thư mục, bao gồm cả 'unknown'\n",
        "class_folders = sorted([item for item in all_items if os.path.isdir(os.path.join(SOURCE_DATA_PATH, item)) and not item.startswith('.')])\n",
        "\n",
        "print(\"Các thư mục lớp đã được lọc sạch:\", class_folders)\n",
        "print(\"Tổng số lớp tìm thấy:\", len(class_folders))\n"
      ],
      "metadata": {
        "colab": {
          "base_uri": "https://localhost:8080/"
        },
        "id": "1dSiC0g2z4IU",
        "outputId": "91359b4f-b0ea-40b1-e3bc-c957c2a50f90"
      },
      "execution_count": null,
      "outputs": [
        {
          "output_type": "stream",
          "name": "stdout",
          "text": [
            "Các thư mục lớp đã được lọc sạch: ['a', 'b', 'c', 'd', 'e', 'f', 'g', 'h', 'i', 'j', 'k', 'l', 'm', 'n', 'o', 'p', 'q', 'r', 's', 't', 'u', 'unknown', 'v', 'w', 'x', 'y', 'z']\n",
            "Tổng số lớp tìm thấy: 27\n"
          ]
        }
      ]
    },
    {
      "cell_type": "markdown",
      "source": [
        "## Khởi tạo mediapipe"
      ],
      "metadata": {
        "id": "AhYtzJ26-g_h"
      }
    },
    {
      "cell_type": "code",
      "source": [
        "mp_hands = mp.solutions.hands\n",
        "\n",
        "# Giảm min_detection_confidence để thử bắt được nhiều tay hơn\n",
        "hands = mp_hands.Hands(static_image_mode=True, max_num_hands=1, min_detection_confidence=0.3)\n",
        "\n",
        "data = []\n",
        "labels = []\n",
        "class_names = class_folders # Sử dụng danh sách đã lọc\n",
        "label_map = {name: i for i, name in enumerate(class_names)}"
      ],
      "metadata": {
        "id": "spDcQMjiojiZ"
      },
      "execution_count": null,
      "outputs": []
    },
    {
      "cell_type": "code",
      "source": [
        "print(\"Các lớp:\", class_names)\n",
        "print(\"Nhãn:\", label_map)\n",
        "print(\"Tổng số lớp:\", len(class_names))\n",
        "print(\"Tổng số nhãn:\", len(label_map))"
      ],
      "metadata": {
        "colab": {
          "base_uri": "https://localhost:8080/"
        },
        "id": "InefhfekzLPA",
        "outputId": "d222077e-e44e-4c0b-935a-3362af895fea"
      },
      "execution_count": null,
      "outputs": [
        {
          "output_type": "stream",
          "name": "stdout",
          "text": [
            "Các lớp: ['a', 'b', 'c', 'd', 'e', 'f', 'g', 'h', 'i', 'j', 'k', 'l', 'm', 'n', 'o', 'p', 'q', 'r', 's', 't', 'u', 'unknown', 'v', 'w', 'x', 'y', 'z']\n",
            "Nhãn: {'a': 0, 'b': 1, 'c': 2, 'd': 3, 'e': 4, 'f': 5, 'g': 6, 'h': 7, 'i': 8, 'j': 9, 'k': 10, 'l': 11, 'm': 12, 'n': 13, 'o': 14, 'p': 15, 'q': 16, 'r': 17, 's': 18, 't': 19, 'u': 20, 'unknown': 21, 'v': 22, 'w': 23, 'x': 24, 'y': 25, 'z': 26}\n",
            "Tổng số lớp: 27\n",
            "Tổng số nhãn: 27\n"
          ]
        }
      ]
    },
    {
      "cell_type": "markdown",
      "source": [
        "##Trích Xuất Đặc Trưng Từ Ảnh Bàn Tay Bằng MediaPipe"
      ],
      "metadata": {
        "id": "G6sM9QTx-mxZ"
      }
    },
    {
      "cell_type": "code",
      "source": [
        "# Số lượng đặc trưng = 21 điểm mốc * 3 tọa độ (x, y, z)\n",
        "NUM_FEATURES = 21 * 3\n",
        "\n",
        "for class_name in class_names:\n",
        "    class_dir = os.path.join(SOURCE_DATA_PATH, class_name)\n",
        "    if not os.path.isdir(class_dir): continue\n",
        "    print(f\"Đang xử lý lớp: {class_name}\")\n",
        "\n",
        "    image_files = os.listdir(class_dir)\n",
        "    for img_name in image_files:\n",
        "        img_path = os.path.join(class_dir, img_name)\n",
        "        image = cv2.imread(img_path)\n",
        "        if image is None:\n",
        "            print(f\"  >> Cảnh báo: không thể đọc ảnh {img_path}\")\n",
        "            continue\n",
        "\n",
        "        image_rgb = cv2.cvtColor(image, cv2.COLOR_BGR2RGB)\n",
        "        results = hands.process(image_rgb)\n",
        "\n",
        "        if results.multi_hand_landmarks:\n",
        "            # Nếu tìm thấy tay, xử lý như bình thường\n",
        "            hand_landmarks = results.multi_hand_landmarks[0]\n",
        "\n",
        "            landmarks_row = []\n",
        "            for landmark in hand_landmarks.landmark:\n",
        "                landmarks_row.extend([landmark.x, landmark.y, landmark.z])\n",
        "\n",
        "            # Chuẩn hóa\n",
        "            wrist_x, wrist_y, wrist_z = landmarks_row[0], landmarks_row[1], landmarks_row[2]\n",
        "            relative_landmarks = []\n",
        "            for i in range(0, len(landmarks_row), 3):\n",
        "                relative_landmarks.extend([\n",
        "                    landmarks_row[i] - wrist_x,\n",
        "                    landmarks_row[i+1] - wrist_y,\n",
        "                    landmarks_row[i+2] - wrist_z\n",
        "                ])\n",
        "\n",
        "            data.append(relative_landmarks)\n",
        "            labels.append(label_map[class_name])\n",
        "        else:\n",
        "            # Nếu KHÔNG tìm thấy tay\n",
        "            # Chỉ thêm vector 0 nếu ảnh thuộc thư mục \"unknown\"\n",
        "            if class_name == 'unknown':\n",
        "                zero_landmarks = [0.0] * NUM_FEATURES\n",
        "                data.append(zero_landmarks)\n",
        "                labels.append(label_map[class_name])\n",
        "            # Nếu không tìm thấy tay trong các thư mục chữ cái, chúng ta bỏ qua\n",
        "            # vì đó là lỗi nhận diện, không phải lớp 'unknown'\n",
        "\n",
        "# Đóng tài nguyên của MediaPipe\n",
        "hands.close()"
      ],
      "metadata": {
        "colab": {
          "base_uri": "https://localhost:8080/"
        },
        "id": "cO4_TtTGJtbD",
        "outputId": "26bcf607-fb0d-4408-aa9c-b8b536cf1de7"
      },
      "execution_count": null,
      "outputs": [
        {
          "output_type": "stream",
          "name": "stdout",
          "text": [
            "Đang xử lý lớp: a\n",
            "Đang xử lý lớp: b\n",
            "Đang xử lý lớp: c\n",
            "Đang xử lý lớp: d\n",
            "Đang xử lý lớp: e\n",
            "Đang xử lý lớp: f\n",
            "Đang xử lý lớp: g\n",
            "Đang xử lý lớp: h\n",
            "Đang xử lý lớp: i\n",
            "Đang xử lý lớp: j\n",
            "Đang xử lý lớp: k\n",
            "Đang xử lý lớp: l\n",
            "Đang xử lý lớp: m\n",
            "Đang xử lý lớp: n\n",
            "Đang xử lý lớp: o\n",
            "Đang xử lý lớp: p\n",
            "Đang xử lý lớp: q\n",
            "Đang xử lý lớp: r\n",
            "Đang xử lý lớp: s\n",
            "Đang xử lý lớp: t\n",
            "Đang xử lý lớp: u\n",
            "Đang xử lý lớp: unknown\n",
            "Đang xử lý lớp: v\n",
            "Đang xử lý lớp: w\n",
            "Đang xử lý lớp: x\n",
            "Đang xử lý lớp: y\n",
            "Đang xử lý lớp: z\n"
          ]
        }
      ]
    },
    {
      "cell_type": "markdown",
      "source": [],
      "metadata": {
        "id": "fJ7pXVXZGezY"
      }
    },
    {
      "cell_type": "markdown",
      "source": [
        "#Lưu dữ liệu đã qua xử lí"
      ],
      "metadata": {
        "id": "msAGDOVy_CQL"
      }
    },
    {
      "cell_type": "code",
      "source": [
        "df_data = pd.DataFrame(data)\n",
        "df_labels = pd.Series(labels, name='label')\n",
        "final_df = pd.concat([df_labels, df_data], axis=1)\n",
        "\n",
        "# Tạo thư mục nếu chưa tồn tại\n",
        "output_dir = os.path.dirname(OUTPUT_CSV_PATH)\n",
        "if not os.path.exists(output_dir):\n",
        "    os.makedirs(output_dir)\n",
        "\n",
        "final_df.to_csv(OUTPUT_CSV_PATH, index=False)\n",
        "\n",
        "print(f\"\\nHOÀN TẤT! Đã tạo bộ dữ liệu điểm mốc tại: {OUTPUT_CSV_PATH}\")\n",
        "print(f\"Tổng số mẫu: {len(final_df)}\")\n",
        "print(\"\\nPhân bố các lớp:\")\n",
        "print(final_df['label'].value_counts().sort_index())"
      ],
      "metadata": {
        "id": "pmYXFqOsJx1W",
        "colab": {
          "base_uri": "https://localhost:8080/"
        },
        "outputId": "76532b7b-c664-4366-8416-51b0727b3b25"
      },
      "execution_count": null,
      "outputs": [
        {
          "output_type": "stream",
          "name": "stdout",
          "text": [
            "\n",
            "HOÀN TẤT! Đã tạo bộ dữ liệu điểm mốc tại: /content/drive/MyDrive/Sign Language Recognition System/processed/landmark_dataset.csv\n",
            "Tổng số mẫu: 10626\n",
            "\n",
            "Phân bố các lớp:\n",
            "label\n",
            "0      512\n",
            "1      587\n",
            "2       49\n",
            "3      656\n",
            "4       33\n",
            "5      838\n",
            "6      375\n",
            "7      406\n",
            "8      147\n",
            "9     1088\n",
            "10     878\n",
            "11     292\n",
            "12      14\n",
            "13      25\n",
            "14     317\n",
            "15     121\n",
            "17     926\n",
            "18     295\n",
            "19      66\n",
            "20     140\n",
            "21    1500\n",
            "22     551\n",
            "23     599\n",
            "24      30\n",
            "25     155\n",
            "26      26\n",
            "Name: count, dtype: int64\n"
          ]
        }
      ]
    }
  ]
}